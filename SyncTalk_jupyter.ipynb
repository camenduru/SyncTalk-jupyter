{
  "cells": [
    {
      "cell_type": "markdown",
      "metadata": {
        "id": "view-in-github"
      },
      "source": [
        "[![Open In Colab](https://colab.research.google.com/assets/colab-badge.svg)](https://colab.research.google.com/github/camenduru/SyncTalk-jupyter/blob/main/SyncTalk_jupyter.ipynb)"
      ]
    },
    {
      "cell_type": "code",
      "execution_count": null,
      "metadata": {
        "id": "VjYy0F2gZIPR"
      },
      "outputs": [],
      "source": [
        "%cd /content\n",
        "!git clone -b dev https://github.com/camenduru/SyncTalk\n",
        "%cd /content/SyncTalk\n",
        "\n",
        "!apt -y install -qq libasound2-dev portaudio19-dev libportaudio2 libportaudiocpp0 ffmpeg aria2\n",
        "\n",
        "!aria2c --console-log-level=error -c -x 16 -s 16 -k 1M https://huggingface.co/camenduru/SyncTalk/resolve/main/May.zip -d /content/SyncTalk/data -o May.zip\n",
        "!aria2c --console-log-level=error -c -x 16 -s 16 -k 1M https://huggingface.co/camenduru/SyncTalk/resolve/main/trial_may.zip -d /content/SyncTalk/model -o trial_may.zip\n",
        "%cd /content/SyncTalk/data\n",
        "!unzip May.zip\n",
        "%cd /content/SyncTalk/model\n",
        "!unzip trial_may.zip\n",
        "\n",
        "!pip install -q https://github.com/camenduru/wheels/releases/download/colab2/pytorch3d-0.7.6-cp310-cp310-linux_x86_64.whl\n",
        "!pip install -q torch-ema ninja trimesh tensorboardX PyMCubes dearpygui scikit-learn face_alignment python_speech_features\n",
        "!pip install -q resampy pyaudio einops configargparse lpips onnxruntime-gpu facenet_pytorch fvcore iopath ffmpeg-python\n",
        "!pip install -q https://github.com/camenduru/wheels/releases/download/colab2/freqencoder-0.0.0-cp310-cp310-linux_x86_64.whl\n",
        "!pip install -q https://github.com/camenduru/wheels/releases/download/colab2/shencoder-0.0.0-cp310-cp310-linux_x86_64.whl\n",
        "!pip install -q https://github.com/camenduru/wheels/releases/download/colab2/gridencoder-0.0.0-cp310-cp310-linux_x86_64.whl\n",
        "!pip install -q https://github.com/camenduru/wheels/releases/download/colab2/raymarching_face-0.0.0-cp310-cp310-linux_x86_64.whl"
      ]
    },
    {
      "cell_type": "code",
      "execution_count": null,
      "metadata": {},
      "outputs": [],
      "source": [
        "%cd /content/SyncTalk\n",
        "!python main.py data/May --workspace model/trial_may -O --iters 60000 --asr_model ave\n",
        "!python main.py data/May --workspace model/trial_may -O --iters 100000 --finetune_lips --patch_size 64 --asr_model ave"
      ]
    },
    {
      "cell_type": "code",
      "execution_count": null,
      "metadata": {},
      "outputs": [],
      "source": [
        "%cd /content/SyncTalk\n",
        "!python main.py data/May --workspace model/trial_may -O --test --test_train --asr_model ave --portrait --aud ./demo/test.wav"
      ]
    }
  ],
  "metadata": {
    "accelerator": "GPU",
    "colab": {
      "gpuType": "T4",
      "provenance": []
    },
    "kernelspec": {
      "display_name": "Python 3",
      "name": "python3"
    },
    "language_info": {
      "name": "python"
    }
  },
  "nbformat": 4,
  "nbformat_minor": 0
}
